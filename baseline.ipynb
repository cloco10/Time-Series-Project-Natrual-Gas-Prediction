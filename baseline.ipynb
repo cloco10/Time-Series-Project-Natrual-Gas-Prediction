{
  "nbformat": 4,
  "nbformat_minor": 0,
  "metadata": {
    "colab": {
      "provenance": []
    },
    "kernelspec": {
      "name": "python3",
      "display_name": "Python 3"
    },
    "language_info": {
      "name": "python"
    }
  },
  "cells": [
    {
      "cell_type": "code",
      "source": [
        "from google.colab import drive\n",
        "drive.mount('/content/gdrive')"
      ],
      "metadata": {
        "id": "gJXsmLCZZSjx",
        "colab": {
          "base_uri": "https://localhost:8080/"
        },
        "outputId": "bdfa39d4-5730-4be6-e89f-e8441d430aa3"
      },
      "execution_count": 1,
      "outputs": [
        {
          "output_type": "stream",
          "name": "stdout",
          "text": [
            "Mounted at /content/gdrive\n"
          ]
        }
      ]
    },
    {
      "cell_type": "code",
      "execution_count": 2,
      "metadata": {
        "id": "hC5quf5wYKJk",
        "colab": {
          "base_uri": "https://localhost:8080/"
        },
        "outputId": "36837824-99ca-4103-c9c8-203a0bfd1b7b"
      },
      "outputs": [
        {
          "output_type": "stream",
          "name": "stdout",
          "text": [
            "/content/gdrive/MyDrive/econ_515/model\n"
          ]
        }
      ],
      "source": [
        "%cd /content/gdrive/MyDrive/econ_515/model"
      ]
    },
    {
      "cell_type": "code",
      "source": [
        "!pip install --upgrade xlrd\n",
        "!pip install torchinfo"
      ],
      "metadata": {
        "colab": {
          "base_uri": "https://localhost:8080/"
        },
        "id": "wyFTwgFLWc9L",
        "outputId": "912316c4-a262-47af-879e-25158915bcbd"
      },
      "execution_count": 4,
      "outputs": [
        {
          "output_type": "stream",
          "name": "stdout",
          "text": [
            "Looking in indexes: https://pypi.org/simple, https://us-python.pkg.dev/colab-wheels/public/simple/\n",
            "Requirement already satisfied: xlrd in /usr/local/lib/python3.7/dist-packages (1.1.0)\n",
            "Collecting xlrd\n",
            "  Downloading xlrd-2.0.1-py2.py3-none-any.whl (96 kB)\n",
            "\u001b[K     |████████████████████████████████| 96 kB 2.9 MB/s \n",
            "\u001b[?25hInstalling collected packages: xlrd\n",
            "  Attempting uninstall: xlrd\n",
            "    Found existing installation: xlrd 1.1.0\n",
            "    Uninstalling xlrd-1.1.0:\n",
            "      Successfully uninstalled xlrd-1.1.0\n",
            "Successfully installed xlrd-2.0.1\n",
            "Looking in indexes: https://pypi.org/simple, https://us-python.pkg.dev/colab-wheels/public/simple/\n",
            "Collecting torchinfo\n",
            "  Downloading torchinfo-1.7.1-py3-none-any.whl (22 kB)\n",
            "Installing collected packages: torchinfo\n",
            "Successfully installed torchinfo-1.7.1\n"
          ]
        }
      ]
    },
    {
      "cell_type": "code",
      "source": [
        "import numpy as np\n",
        "import pandas as pd\n",
        "import xlrd\n",
        "from torchinfo import summary\n",
        "import argparse\n",
        "import torch.optim as optim\n",
        "from torch.utils.data import DataLoader, Dataset\n",
        "import pandas as pd\n",
        "from torchvision import transforms\n",
        "import numpy as np\n",
        "from datetime import date\n",
        "import datetime\n",
        "from sklearn.metrics import mean_absolute_error, r2_score, mean_squared_error\n",
        "from torch import nn\n",
        "import torch\n",
        "from torch.autograd import Variable\n",
        "import matplotlib.pyplot as plt\n",
        "import psycopg2\n"
      ],
      "metadata": {
        "id": "0xcE1SIgdzPG"
      },
      "execution_count": 5,
      "outputs": []
    },
    {
      "cell_type": "code",
      "source": [
        "## read_excel\n",
        "Natural_Gas = pd.read_excel('../data/gas_price.xls', sheet_name='Data 1', header=2, index_col=0)\n",
        "Crude_Oil = pd.read_excel('../data/price_for_variables.xls', sheet_name='Data 1', header=2, index_col=0)\n",
        "Heating_Oil = pd.read_excel('../data/price_for_variables.xls', sheet_name='Data 4', header=2, index_col=0)\n",
        "Drilling = pd.read_excel('../data/drilling.xls', sheet_name='Data 3', header=2, index_col=0)\n",
        "\n",
        "Production = pd.read_excel('../data/data.xls', sheet_name='Data 2', header=2, index_col=0)\n",
        "Imports_Exports = pd.read_excel('../data/data.xls', sheet_name='Data 3', header=2, index_col=0)\n",
        "Underground_Storage = pd.read_excel('../data/data.xls', sheet_name='Data 4', header=2, index_col=0)\n",
        "Consumption = pd.read_excel('../data/data.xls', sheet_name='Data 5', header=2, index_col=0)\n"
      ],
      "metadata": {
        "id": "5T9h7uEzfiVh"
      },
      "execution_count": 7,
      "outputs": []
    },
    {
      "cell_type": "code",
      "source": [
        "## get variables\n",
        "start_date = '2001-01-15'\n",
        "end_date = '2022-07-15'\n",
        "Natural_Gas_Price = Natural_Gas.loc[start_date: end_date, 'Henry Hub Natural Gas Spot Price (Dollars per Million Btu)']\n",
        "Crude_Oil_Price = Crude_Oil.loc[start_date: end_date, 'Cushing, OK WTI Spot Price FOB (Dollars per Barrel)']\n",
        "Heating_Oil_Price = Heating_Oil.loc[start_date: end_date, 'New York Harbor No. 2 Heating Oil Spot Price FOB (Dollars per Gallon)']\n",
        "Drilling_activity = Drilling.loc[start_date: end_date, 'U.S. Natural Gas Rotary Rigs in Operation (Count)']\n",
        "\n",
        "Natural_Gas_Supply = Production.loc[start_date: end_date, 'U.S. Natural Gas Marketed Production (MMcf)']\n",
        "Natural_Gas_Demand = Consumption.loc[start_date: end_date, 'U.S. Natural Gas Industrial Consumption (MMcf)']\n",
        "Natural_Gas_Storage = Underground_Storage.loc[start_date: end_date, 'U.S. Natural Gas Underground Storage Volume (MMcf)']\n",
        "Natural_Gas_Import = Imports_Exports.loc[start_date: end_date, 'U.S. Natural Gas Imports (MMcf)']\n",
        "Natural_Gas_Export = Imports_Exports.loc[start_date: end_date, 'U.S. Natural Gas Exports (MMcf)']\n",
        "\n",
        "\n",
        "df = pd.concat([Natural_Gas_Price, Crude_Oil_Price, Heating_Oil_Price, Drilling_activity, Natural_Gas_Supply, Natural_Gas_Demand, Natural_Gas_Storage, Natural_Gas_Import, Natural_Gas_Export], axis=1)\n",
        "df.describe()"
      ],
      "metadata": {
        "colab": {
          "base_uri": "https://localhost:8080/",
          "height": 413
        },
        "id": "GaO2-VZuXzN8",
        "outputId": "52fc9adf-b292-4ad4-fca6-28de94dacb59"
      },
      "execution_count": 8,
      "outputs": [
        {
          "output_type": "execute_result",
          "data": {
            "text/plain": [
              "       Henry Hub Natural Gas Spot Price (Dollars per Million Btu)  \\\n",
              "count                                         259.000000            \n",
              "mean                                            4.483050            \n",
              "std                                             2.182244            \n",
              "min                                             1.630000            \n",
              "25%                                             2.860000            \n",
              "50%                                             3.900000            \n",
              "75%                                             5.815000            \n",
              "max                                            13.420000            \n",
              "\n",
              "       Cushing, OK WTI Spot Price FOB (Dollars per Barrel)  \\\n",
              "count                                         259.000000     \n",
              "mean                                           63.537104     \n",
              "std                                            25.745499     \n",
              "min                                            16.550000     \n",
              "25%                                            44.810000     \n",
              "50%                                            59.820000     \n",
              "75%                                            84.270000     \n",
              "max                                           133.880000     \n",
              "\n",
              "       New York Harbor No. 2 Heating Oil Spot Price FOB (Dollars per Gallon)  \\\n",
              "count                                         259.000000                       \n",
              "mean                                            1.881517                       \n",
              "std                                             0.810441                       \n",
              "min                                             0.524000                       \n",
              "25%                                             1.320500                       \n",
              "50%                                             1.829000                       \n",
              "75%                                             2.403000                       \n",
              "max                                             4.497000                       \n",
              "\n",
              "       U.S. Natural Gas Rotary Rigs in Operation (Count)  \\\n",
              "count                                         259.000000   \n",
              "mean                                          651.270270   \n",
              "std                                           472.385293   \n",
              "min                                            70.000000   \n",
              "25%                                           187.000000   \n",
              "50%                                           683.000000   \n",
              "75%                                           974.500000   \n",
              "max                                          1585.000000   \n",
              "\n",
              "       U.S. Natural Gas Marketed Production (MMcf)  \\\n",
              "count                                 2.590000e+02   \n",
              "mean                                  2.153175e+06   \n",
              "std                                   5.275196e+05   \n",
              "min                                   1.400941e+06   \n",
              "25%                                   1.697567e+06   \n",
              "50%                                   2.032795e+06   \n",
              "75%                                   2.440094e+06   \n",
              "max                                   3.321056e+06   \n",
              "\n",
              "       U.S. Natural Gas Industrial Consumption (MMcf)  \\\n",
              "count                                      259.000000   \n",
              "mean                                    615835.420849   \n",
              "std                                      69728.229950   \n",
              "min                                     459110.000000   \n",
              "25%                                     569206.500000   \n",
              "50%                                     611973.000000   \n",
              "75%                                     659726.500000   \n",
              "max                                     817616.000000   \n",
              "\n",
              "       U.S. Natural Gas Underground Storage Volume (MMcf)  \\\n",
              "count                                       2.590000e+02    \n",
              "mean                                        6.896901e+06    \n",
              "std                                         8.004291e+05    \n",
              "min                                         5.041971e+06    \n",
              "25%                                         6.288199e+06    \n",
              "50%                                         6.993053e+06    \n",
              "75%                                         7.530534e+06    \n",
              "max                                         8.384087e+06    \n",
              "\n",
              "       U.S. Natural Gas Imports (MMcf)  U.S. Natural Gas Exports (MMcf)  \n",
              "count                       259.000000                       259.000000  \n",
              "mean                     287733.509653                    176277.783784  \n",
              "std                       58024.667608                    156666.717650  \n",
              "min                      174225.000000                     23637.000000  \n",
              "25%                      238303.500000                     65392.500000  \n",
              "50%                      281350.000000                    119891.000000  \n",
              "75%                      333055.000000                    248834.000000  \n",
              "max                      426534.000000                    637564.000000  "
            ],
            "text/html": [
              "\n",
              "  <div id=\"df-620501ae-6dcd-434d-b72a-8b87613193b5\">\n",
              "    <div class=\"colab-df-container\">\n",
              "      <div>\n",
              "<style scoped>\n",
              "    .dataframe tbody tr th:only-of-type {\n",
              "        vertical-align: middle;\n",
              "    }\n",
              "\n",
              "    .dataframe tbody tr th {\n",
              "        vertical-align: top;\n",
              "    }\n",
              "\n",
              "    .dataframe thead th {\n",
              "        text-align: right;\n",
              "    }\n",
              "</style>\n",
              "<table border=\"1\" class=\"dataframe\">\n",
              "  <thead>\n",
              "    <tr style=\"text-align: right;\">\n",
              "      <th></th>\n",
              "      <th>Henry Hub Natural Gas Spot Price (Dollars per Million Btu)</th>\n",
              "      <th>Cushing, OK WTI Spot Price FOB (Dollars per Barrel)</th>\n",
              "      <th>New York Harbor No. 2 Heating Oil Spot Price FOB (Dollars per Gallon)</th>\n",
              "      <th>U.S. Natural Gas Rotary Rigs in Operation (Count)</th>\n",
              "      <th>U.S. Natural Gas Marketed Production (MMcf)</th>\n",
              "      <th>U.S. Natural Gas Industrial Consumption (MMcf)</th>\n",
              "      <th>U.S. Natural Gas Underground Storage Volume (MMcf)</th>\n",
              "      <th>U.S. Natural Gas Imports (MMcf)</th>\n",
              "      <th>U.S. Natural Gas Exports (MMcf)</th>\n",
              "    </tr>\n",
              "  </thead>\n",
              "  <tbody>\n",
              "    <tr>\n",
              "      <th>count</th>\n",
              "      <td>259.000000</td>\n",
              "      <td>259.000000</td>\n",
              "      <td>259.000000</td>\n",
              "      <td>259.000000</td>\n",
              "      <td>2.590000e+02</td>\n",
              "      <td>259.000000</td>\n",
              "      <td>2.590000e+02</td>\n",
              "      <td>259.000000</td>\n",
              "      <td>259.000000</td>\n",
              "    </tr>\n",
              "    <tr>\n",
              "      <th>mean</th>\n",
              "      <td>4.483050</td>\n",
              "      <td>63.537104</td>\n",
              "      <td>1.881517</td>\n",
              "      <td>651.270270</td>\n",
              "      <td>2.153175e+06</td>\n",
              "      <td>615835.420849</td>\n",
              "      <td>6.896901e+06</td>\n",
              "      <td>287733.509653</td>\n",
              "      <td>176277.783784</td>\n",
              "    </tr>\n",
              "    <tr>\n",
              "      <th>std</th>\n",
              "      <td>2.182244</td>\n",
              "      <td>25.745499</td>\n",
              "      <td>0.810441</td>\n",
              "      <td>472.385293</td>\n",
              "      <td>5.275196e+05</td>\n",
              "      <td>69728.229950</td>\n",
              "      <td>8.004291e+05</td>\n",
              "      <td>58024.667608</td>\n",
              "      <td>156666.717650</td>\n",
              "    </tr>\n",
              "    <tr>\n",
              "      <th>min</th>\n",
              "      <td>1.630000</td>\n",
              "      <td>16.550000</td>\n",
              "      <td>0.524000</td>\n",
              "      <td>70.000000</td>\n",
              "      <td>1.400941e+06</td>\n",
              "      <td>459110.000000</td>\n",
              "      <td>5.041971e+06</td>\n",
              "      <td>174225.000000</td>\n",
              "      <td>23637.000000</td>\n",
              "    </tr>\n",
              "    <tr>\n",
              "      <th>25%</th>\n",
              "      <td>2.860000</td>\n",
              "      <td>44.810000</td>\n",
              "      <td>1.320500</td>\n",
              "      <td>187.000000</td>\n",
              "      <td>1.697567e+06</td>\n",
              "      <td>569206.500000</td>\n",
              "      <td>6.288199e+06</td>\n",
              "      <td>238303.500000</td>\n",
              "      <td>65392.500000</td>\n",
              "    </tr>\n",
              "    <tr>\n",
              "      <th>50%</th>\n",
              "      <td>3.900000</td>\n",
              "      <td>59.820000</td>\n",
              "      <td>1.829000</td>\n",
              "      <td>683.000000</td>\n",
              "      <td>2.032795e+06</td>\n",
              "      <td>611973.000000</td>\n",
              "      <td>6.993053e+06</td>\n",
              "      <td>281350.000000</td>\n",
              "      <td>119891.000000</td>\n",
              "    </tr>\n",
              "    <tr>\n",
              "      <th>75%</th>\n",
              "      <td>5.815000</td>\n",
              "      <td>84.270000</td>\n",
              "      <td>2.403000</td>\n",
              "      <td>974.500000</td>\n",
              "      <td>2.440094e+06</td>\n",
              "      <td>659726.500000</td>\n",
              "      <td>7.530534e+06</td>\n",
              "      <td>333055.000000</td>\n",
              "      <td>248834.000000</td>\n",
              "    </tr>\n",
              "    <tr>\n",
              "      <th>max</th>\n",
              "      <td>13.420000</td>\n",
              "      <td>133.880000</td>\n",
              "      <td>4.497000</td>\n",
              "      <td>1585.000000</td>\n",
              "      <td>3.321056e+06</td>\n",
              "      <td>817616.000000</td>\n",
              "      <td>8.384087e+06</td>\n",
              "      <td>426534.000000</td>\n",
              "      <td>637564.000000</td>\n",
              "    </tr>\n",
              "  </tbody>\n",
              "</table>\n",
              "</div>\n",
              "      <button class=\"colab-df-convert\" onclick=\"convertToInteractive('df-620501ae-6dcd-434d-b72a-8b87613193b5')\"\n",
              "              title=\"Convert this dataframe to an interactive table.\"\n",
              "              style=\"display:none;\">\n",
              "        \n",
              "  <svg xmlns=\"http://www.w3.org/2000/svg\" height=\"24px\"viewBox=\"0 0 24 24\"\n",
              "       width=\"24px\">\n",
              "    <path d=\"M0 0h24v24H0V0z\" fill=\"none\"/>\n",
              "    <path d=\"M18.56 5.44l.94 2.06.94-2.06 2.06-.94-2.06-.94-.94-2.06-.94 2.06-2.06.94zm-11 1L8.5 8.5l.94-2.06 2.06-.94-2.06-.94L8.5 2.5l-.94 2.06-2.06.94zm10 10l.94 2.06.94-2.06 2.06-.94-2.06-.94-.94-2.06-.94 2.06-2.06.94z\"/><path d=\"M17.41 7.96l-1.37-1.37c-.4-.4-.92-.59-1.43-.59-.52 0-1.04.2-1.43.59L10.3 9.45l-7.72 7.72c-.78.78-.78 2.05 0 2.83L4 21.41c.39.39.9.59 1.41.59.51 0 1.02-.2 1.41-.59l7.78-7.78 2.81-2.81c.8-.78.8-2.07 0-2.86zM5.41 20L4 18.59l7.72-7.72 1.47 1.35L5.41 20z\"/>\n",
              "  </svg>\n",
              "      </button>\n",
              "      \n",
              "  <style>\n",
              "    .colab-df-container {\n",
              "      display:flex;\n",
              "      flex-wrap:wrap;\n",
              "      gap: 12px;\n",
              "    }\n",
              "\n",
              "    .colab-df-convert {\n",
              "      background-color: #E8F0FE;\n",
              "      border: none;\n",
              "      border-radius: 50%;\n",
              "      cursor: pointer;\n",
              "      display: none;\n",
              "      fill: #1967D2;\n",
              "      height: 32px;\n",
              "      padding: 0 0 0 0;\n",
              "      width: 32px;\n",
              "    }\n",
              "\n",
              "    .colab-df-convert:hover {\n",
              "      background-color: #E2EBFA;\n",
              "      box-shadow: 0px 1px 2px rgba(60, 64, 67, 0.3), 0px 1px 3px 1px rgba(60, 64, 67, 0.15);\n",
              "      fill: #174EA6;\n",
              "    }\n",
              "\n",
              "    [theme=dark] .colab-df-convert {\n",
              "      background-color: #3B4455;\n",
              "      fill: #D2E3FC;\n",
              "    }\n",
              "\n",
              "    [theme=dark] .colab-df-convert:hover {\n",
              "      background-color: #434B5C;\n",
              "      box-shadow: 0px 1px 3px 1px rgba(0, 0, 0, 0.15);\n",
              "      filter: drop-shadow(0px 1px 2px rgba(0, 0, 0, 0.3));\n",
              "      fill: #FFFFFF;\n",
              "    }\n",
              "  </style>\n",
              "\n",
              "      <script>\n",
              "        const buttonEl =\n",
              "          document.querySelector('#df-620501ae-6dcd-434d-b72a-8b87613193b5 button.colab-df-convert');\n",
              "        buttonEl.style.display =\n",
              "          google.colab.kernel.accessAllowed ? 'block' : 'none';\n",
              "\n",
              "        async function convertToInteractive(key) {\n",
              "          const element = document.querySelector('#df-620501ae-6dcd-434d-b72a-8b87613193b5');\n",
              "          const dataTable =\n",
              "            await google.colab.kernel.invokeFunction('convertToInteractive',\n",
              "                                                     [key], {});\n",
              "          if (!dataTable) return;\n",
              "\n",
              "          const docLinkHtml = 'Like what you see? Visit the ' +\n",
              "            '<a target=\"_blank\" href=https://colab.research.google.com/notebooks/data_table.ipynb>data table notebook</a>'\n",
              "            + ' to learn more about interactive tables.';\n",
              "          element.innerHTML = '';\n",
              "          dataTable['output_type'] = 'display_data';\n",
              "          await google.colab.output.renderOutput(dataTable, element);\n",
              "          const docLink = document.createElement('div');\n",
              "          docLink.innerHTML = docLinkHtml;\n",
              "          element.appendChild(docLink);\n",
              "        }\n",
              "      </script>\n",
              "    </div>\n",
              "  </div>\n",
              "  "
            ]
          },
          "metadata": {},
          "execution_count": 8
        }
      ]
    },
    {
      "cell_type": "code",
      "source": [
        "mean = np.array(df.iloc[: int(len(df)*0.7)].describe().loc['mean'])\n",
        "std = np.array(df.iloc[: int(len(df)*0.7)].describe().loc['std'])"
      ],
      "metadata": {
        "id": "w8HTUsOhX9oq"
      },
      "execution_count": 9,
      "outputs": []
    },
    {
      "cell_type": "code",
      "source": [
        "\n",
        "class preprocessing():\n",
        "    def __init__(self):\n",
        "        pass\n",
        "\n",
        "    def create_dataset(self, data, sequence_length):\n",
        "        total_len = len(data)\n",
        "        X = []\n",
        "        Y = []\n",
        "        for i in range(total_len - sequence_length):\n",
        "            X.append(np.array(data.iloc[i:(i + sequence_length), :].values, dtype=np.double))\n",
        "            Y.append(np.array(data.iloc[(i + sequence_length), 0], dtype=np.double))\n",
        "            # Y.append(np.array(data.iloc[(i + sequence_length), 0]/data.iloc[(i + sequence_length)-1, 0] - 1, dtype=np.double))\n",
        "\n",
        "        X = np.array(X)\n",
        "        Y = np.array(Y)\n",
        "\n",
        "        trainx, trainy = X[: int(0.7 * total_len)], Y[: int(0.7 * total_len)]\n",
        "        valx, valy = X[int(0.7 * total_len): int(0.85 * total_len)], Y[int(0.7 * total_len): int(0.85 * total_len)]\n",
        "        testx, testy = X[int(0.85 * total_len):], Y[int(0.85 * total_len):]\n",
        "        \n",
        "        mean_fory = np.mean(trainy)\n",
        "        std_fory = np.std(trainy)\n",
        "        \n",
        "        train_loader = DataLoader(dataset=Mydataset(trainx, trainy, normalize=[mean,std,mean_fory, std_fory]), batch_size=2, shuffle=True)\n",
        "        val_loader = DataLoader(dataset=Mydataset(valx, valy, normalize=[mean,std,mean_fory, std_fory]), batch_size=2, shuffle=False)\n",
        "        test_loader = DataLoader(dataset=Mydataset(testx, testy, normalize=[mean,std,mean_fory, std_fory]), batch_size=2, shuffle=False)\n",
        "\n",
        "        # train_loader = DataLoader(dataset=Mydataset(trainx, trainy), batch_size=1, shuffle=False)\n",
        "        # val_loader = DataLoader(dataset=Mydataset(valx, valy), batch_size=1, shuffle=False)\n",
        "        # test_loader = DataLoader(dataset=Mydataset(testx, testy), batch_size=1, shuffle=False)\n",
        "\n",
        "        return train_loader, val_loader, test_loader, mean_fory, std_fory\n",
        "\n",
        "\n",
        "class Mydataset(Dataset):\n",
        "\n",
        "    def __init__(self, xx, yy, normalize=None):\n",
        "        self.x = torch.from_numpy(xx)\n",
        "        self.y = torch.from_numpy(yy)\n",
        "        self.normalize = normalize\n",
        "\n",
        "    def __getitem__(self, index):\n",
        "        x1 = self.x[index]\n",
        "        y1 = self.y[index]\n",
        "        # print(x1.shape)\n",
        "        \n",
        "        if self.normalize != None:\n",
        "            x1 = (x1 - torch.from_numpy(self.normalize[0]))/torch.from_numpy(self.normalize[1])\n",
        "            y1 = (y1 - torch.from_numpy(np.array(self.normalize[2])))/torch.from_numpy(np.array(self.normalize[3]))\n",
        "\n",
        "        return x1, y1\n",
        "\n",
        "    def __len__(self):\n",
        "        return len(self.x)\n"
      ],
      "metadata": {
        "id": "BhCyXS1wb84u"
      },
      "execution_count": 10,
      "outputs": []
    },
    {
      "cell_type": "code",
      "source": [
        "da = preprocessing()\n",
        "train_loader, val_loader, test_loader, mean_fory, std_fory = da.create_dataset(df, sequence_length=8)"
      ],
      "metadata": {
        "id": "pxqFO8aVYORq"
      },
      "execution_count": 11,
      "outputs": []
    },
    {
      "cell_type": "code",
      "source": [
        "class lstm(nn.Module):\n",
        "\n",
        "    def __init__(self, input_size=9, hidden_size=32, output_size=1):\n",
        "        super(lstm, self).__init__()\n",
        "        # lstm input #batch, seq_len, input_size\n",
        "        self.hidden_size = hidden_size\n",
        "        self.input_size = input_size\n",
        "        self.output_size = output_size\n",
        "        self.rnn = nn.LSTM(input_size=self.input_size, hidden_size=self.hidden_size, batch_first=True)\n",
        "        self.linear = nn.Linear(self.hidden_size, self.output_size)\n",
        "\n",
        "\n",
        "    def forward(self, x):\n",
        "        out, (hidden, cell) = self.rnn(x)  \n",
        "        a, b, c = hidden.shape\n",
        "        out = self.linear(hidden.reshape(a * b, c))\n",
        "        \n",
        "        return out"
      ],
      "metadata": {
        "id": "eUkSnh8dkrWE"
      },
      "execution_count": 13,
      "outputs": []
    },
    {
      "cell_type": "code",
      "source": [
        "model = lstm()\n",
        "summary(model, (8, 5, 9))"
      ],
      "metadata": {
        "colab": {
          "base_uri": "https://localhost:8080/"
        },
        "id": "UDOUkyZOkscc",
        "outputId": "becd57e8-df64-416d-b122-1f7d8c7b84ba"
      },
      "execution_count": 14,
      "outputs": [
        {
          "output_type": "execute_result",
          "data": {
            "text/plain": [
              "==========================================================================================\n",
              "Layer (type:depth-idx)                   Output Shape              Param #\n",
              "==========================================================================================\n",
              "lstm                                     [8, 1]                    --\n",
              "├─LSTM: 1-1                              [8, 5, 32]                5,504\n",
              "├─Linear: 1-2                            [8, 1]                    33\n",
              "==========================================================================================\n",
              "Total params: 5,537\n",
              "Trainable params: 5,537\n",
              "Non-trainable params: 0\n",
              "Total mult-adds (M): 0.22\n",
              "==========================================================================================\n",
              "Input size (MB): 0.00\n",
              "Forward/backward pass size (MB): 0.01\n",
              "Params size (MB): 0.02\n",
              "Estimated Total Size (MB): 0.03\n",
              "=========================================================================================="
            ]
          },
          "metadata": {},
          "execution_count": 14
        }
      ]
    },
    {
      "cell_type": "code",
      "source": [
        "criterion = nn.MSELoss()\n",
        "optimizer = optim.Adam(model.parameters(), lr=0.001)\n",
        "epochs = 30"
      ],
      "metadata": {
        "id": "zVquWw3Jl916"
      },
      "execution_count": 15,
      "outputs": []
    },
    {
      "cell_type": "code",
      "source": [
        "train_losses = np.zeros(epochs)\n",
        "val_losses = np.zeros(epochs)\n",
        "best_val_loss = np.inf\n",
        "best_val_epoch = 0\n",
        "\n",
        "for i in range(epochs):\n",
        "    train_loss = []\n",
        "    for idx, (data, label) in enumerate(train_loader):\n",
        "        pred = model(data.float())\n",
        "        label = label.float()\n",
        "        loss = criterion(pred, label)\n",
        "        optimizer.zero_grad()\n",
        "        loss.backward()\n",
        "        optimizer.step()\n",
        "        train_loss.append(loss.item())\n",
        "    train_loss = np.mean(train_loss)\n",
        "\n",
        "\n",
        "    model.eval()\n",
        "    with torch.no_grad():\n",
        "        val_loss = []\n",
        "        for idx, (data, label) in enumerate(val_loader):   \n",
        "            pred = model(data.float())\n",
        "            label = label.float()\n",
        "            loss = criterion(pred, label)\n",
        "            val_loss.append(loss.item())\n",
        "        val_loss = np.mean(val_loss)\n",
        "\n",
        "        if val_loss < best_val_loss:\n",
        "            torch.save(model.state_dict(), 'lstm_gas.pt')\n",
        "                # torch.save(model, './best_val_model_pytorch')\n",
        "            best_val_loss = val_loss\n",
        "            best_val_epoch = i\n",
        "            print('model saved')\n",
        "\n",
        "    train_losses[i] = train_loss\n",
        "    val_losses[i] = val_loss\n",
        "    # print(i)\n",
        "    # print('train_loss: ' + str(train_loss) + 'val_loss: '+ str(val_loss))\n"
      ],
      "metadata": {
        "colab": {
          "base_uri": "https://localhost:8080/"
        },
        "id": "ZV3JHlnMmDqE",
        "outputId": "e282afef-f65c-4856-9a89-7f3081d9b96a"
      },
      "execution_count": 16,
      "outputs": [
        {
          "output_type": "stream",
          "name": "stderr",
          "text": [
            "/usr/local/lib/python3.7/dist-packages/torch/nn/modules/loss.py:530: UserWarning: Using a target size (torch.Size([2])) that is different to the input size (torch.Size([2, 1])). This will likely lead to incorrect results due to broadcasting. Please ensure they have the same size.\n",
            "  return F.mse_loss(input, target, reduction=self.reduction)\n",
            "/usr/local/lib/python3.7/dist-packages/torch/nn/modules/loss.py:530: UserWarning: Using a target size (torch.Size([1])) that is different to the input size (torch.Size([1, 1])). This will likely lead to incorrect results due to broadcasting. Please ensure they have the same size.\n",
            "  return F.mse_loss(input, target, reduction=self.reduction)\n"
          ]
        },
        {
          "output_type": "stream",
          "name": "stdout",
          "text": [
            "model saved\n",
            "model saved\n",
            "model saved\n",
            "model saved\n"
          ]
        }
      ]
    },
    {
      "cell_type": "code",
      "source": [
        "print(best_val_loss)\n",
        "print(best_val_epoch)"
      ],
      "metadata": {
        "colab": {
          "base_uri": "https://localhost:8080/"
        },
        "id": "-xUBviAtw6CP",
        "outputId": "5ec90680-f56d-49c6-a3e2-e751d489a1cd"
      },
      "execution_count": 17,
      "outputs": [
        {
          "output_type": "stream",
          "name": "stdout",
          "text": [
            "0.08585290245246142\n",
            "15\n"
          ]
        }
      ]
    },
    {
      "cell_type": "code",
      "source": [
        "plt.figure(figsize=(15,6))\n",
        "plt.plot(train_losses, label='train loss')\n",
        "plt.plot(val_losses, label='validation loss')\n",
        "plt.legend()"
      ],
      "metadata": {
        "colab": {
          "base_uri": "https://localhost:8080/",
          "height": 392
        },
        "id": "dmQqbSzntxBS",
        "outputId": "9e9e687d-9b71-4759-e370-7701b8060add"
      },
      "execution_count": 18,
      "outputs": [
        {
          "output_type": "execute_result",
          "data": {
            "text/plain": [
              "<matplotlib.legend.Legend at 0x7f7678725310>"
            ]
          },
          "metadata": {},
          "execution_count": 18
        },
        {
          "output_type": "display_data",
          "data": {
            "text/plain": [
              "<Figure size 1080x432 with 1 Axes>"
            ],
            "image/png": "[encoded data removed]"
          },
          "metadata": {
            "needs_background": "light"
          }
        }
      ]
    },
    {
      "cell_type": "code",
      "source": [
        "model = lstm()\n",
        "model.load_state_dict(torch.load('lstm_gas.pt'))\n",
        "model.eval()\n",
        "with torch.no_grad():\n",
        "    preds = []\n",
        "    labels = []\n",
        "    for idx, (data, label) in enumerate(test_loader):   \n",
        "        pred = np.array(model(data.float()))\n",
        "        label = np.array(label.float())\n",
        "        for i in range(len(pred)):\n",
        "            preds.append(pred[i]*std_fory + mean_fory)\n",
        "            labels.append(label[i]*std_fory + mean_fory)"
      ],
      "metadata": {
        "id": "zXXgnoWcuaAx"
      },
      "execution_count": 29,
      "outputs": []
    },
    {
      "cell_type": "code",
      "source": [
        "plt.figure(figsize=(15,6))\n",
        "plt.plot(np.array(preds), label='prediciton')\n",
        "plt.plot(np.array(labels), label='labels')\n",
        "plt.legend()"
      ],
      "metadata": {
        "colab": {
          "base_uri": "https://localhost:8080/",
          "height": 392
        },
        "id": "krfDafQBylCF",
        "outputId": "96591961-45a3-4795-e04c-40cedba5e736"
      },
      "execution_count": 30,
      "outputs": [
        {
          "output_type": "execute_result",
          "data": {
            "text/plain": [
              "<matplotlib.legend.Legend at 0x7f7676467690>"
            ]
          },
          "metadata": {},
          "execution_count": 30
        },
        {
          "output_type": "display_data",
          "data": {
            "text/plain": [
              "<Figure size 1080x432 with 1 Axes>"
            ],
            "image/png": "[encoded data removed]"
          },
          "metadata": {
            "needs_background": "light"
          }
        }
      ]
    }
  ]
}
